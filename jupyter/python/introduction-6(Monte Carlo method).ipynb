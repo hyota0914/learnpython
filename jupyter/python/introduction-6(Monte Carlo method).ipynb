{
 "cells": [
  {
   "cell_type": "code",
   "execution_count": 16,
   "metadata": {},
   "outputs": [
    {
     "name": "stdout",
     "output_type": "stream",
     "text": [
      "Probability of winning =  0.4982\n"
     ]
    }
   ],
   "source": [
    "import random\n",
    "\n",
    "# サイコロの問題\n",
    "def rollDie():\n",
    "    return random.choice([1,2,3,4,5,6])\n",
    "\n",
    "def checkPascal(numTrials):\n",
    "    numWins = 0\n",
    "    for i in range(numTrials):\n",
    "        for j in range(24):\n",
    "            d1 = rollDie()\n",
    "            d2 = rollDie()\n",
    "            if d1 == 6 and d2 == 6:\n",
    "                numWins += 1\n",
    "                break\n",
    "    print('Probability of winning = ', numWins/numTrials)\n",
    "    \n",
    "checkPascal(10000)"
   ]
  },
  {
   "cell_type": "code",
   "execution_count": 52,
   "metadata": {},
   "outputs": [
    {
     "name": "stdout",
     "output_type": "stream",
     "text": [
      "Pass: Mean ROI =  -8.0% Std. Dev. =  0    31.1983\n",
      "dtype: float64%\n",
      "Don't pass: Mean ROI = 4.5% Std Dev =  0    29.5757\n",
      "dtype: float64%\n",
      "---\n",
      "<class 'pandas.core.series.Series'>\n"
     ]
    }
   ],
   "source": [
    "import pandas as pd\n",
    "import pprint\n",
    "\n",
    "# クラップスと呼ばれるゲーム\n",
    "class CrapsGame(object):\n",
    "    def __init__(self):\n",
    "        self.passWins, self.passLosses = 0, 0\n",
    "        self.dpWins, self.dpLosses, self.dpPushes = 0, 0, 0\n",
    "    \n",
    "    def playHand(self):\n",
    "        throw = rollDie() + rollDie()\n",
    "        if throw == 7 or throw == 11:\n",
    "            self.passWins += 1\n",
    "            self.dpLosses += 1\n",
    "        elif throw == 2 or throw == 3 or throw == 12:\n",
    "            self.passLosses += 1\n",
    "            if throw == 12:\n",
    "                self.dpPushes += 1\n",
    "            else:\n",
    "                self.dpWins += 1\n",
    "        else:\n",
    "            point = throw\n",
    "            while True:\n",
    "                throw = rollDie() + rollDie()\n",
    "                if throw == point:\n",
    "                    self.passWins += 1\n",
    "                    self.dpLosses += 1\n",
    "                    break\n",
    "                elif throw == 7:\n",
    "                    self.passLosses += 1\n",
    "                    self.dpWins += 1\n",
    "                    break\n",
    "    \n",
    "    def passResults(self):\n",
    "        return (self.passWins, self.passLosses)\n",
    "    \n",
    "    def dpResults(self):\n",
    "        return (self.dpWins, self.dpLosses, self.dpPushes)\n",
    "\n",
    "def crapsSim(handsPerGame, numGames):\n",
    "    games = []\n",
    "    for t in range(numGames):\n",
    "        c = CrapsGame()\n",
    "        for i in range(handsPerGame):\n",
    "            c.playHand()\n",
    "        games.append(c)\n",
    "    \n",
    "    pROIPerGame, dpROIPerGame = [], []\n",
    "    for g in games:\n",
    "        wins, losses = g.passResults()\n",
    "        pROIPerGame.append((wins - losses)/float(handsPerGame))\n",
    "        wins, losses, pushes = g.dpResults()\n",
    "        dpROIPerGame.append((wins - losses)/float(handsPerGame))\n",
    "    dfPROIPerGame = pd.DataFrame(pROIPerGame, dtype='float64')\n",
    "    dfDpROIPerGame = pd.DataFrame(dpROIPerGame, dtype='float64')\n",
    "    meanROI = str(round(100*sum(pROIPerGame)/numGames, 4)) + '%'\n",
    "    sigma = str(round(100*dfPROIPerGame.std(), 4)) + '%'\n",
    "    print('Pass:', 'Mean ROI = ', meanROI, 'Std. Dev. = ', sigma)\n",
    "    meanROI = str(round((100*sum(dpROIPerGame)/numGames), 4)) + '%'\n",
    "    sigma = str(round(100*dfDpROIPerGame.std(), 4)) + '%'\n",
    "    print('Don\\'t pass:', 'Mean ROI =', meanROI, 'Std Dev = ', sigma)\n",
    "    print('---')\n",
    "    print(type(dfDpROIPerGame.std()))\n",
    "\n",
    "crapsSim(20, 10)"
   ]
  }
 ],
 "metadata": {
  "kernelspec": {
   "display_name": "Python 3",
   "language": "python",
   "name": "python3"
  },
  "language_info": {
   "codemirror_mode": {
    "name": "ipython",
    "version": 3
   },
   "file_extension": ".py",
   "mimetype": "text/x-python",
   "name": "python",
   "nbconvert_exporter": "python",
   "pygments_lexer": "ipython3",
   "version": "3.6.3"
  }
 },
 "nbformat": 4,
 "nbformat_minor": 2
}
