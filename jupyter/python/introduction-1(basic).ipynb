{
 "cells": [
  {
   "cell_type": "code",
   "execution_count": 1,
   "metadata": {},
   "outputs": [
    {
     "name": "stdout",
     "output_type": "stream",
     "text": [
      "fib of 0 = 1\n",
      "fib of 1 = 1\n",
      "fib of 2 = 2\n",
      "fib of 3 = 3\n",
      "fib of 4 = 5\n",
      "fib of 5 = 8\n"
     ]
    }
   ],
   "source": [
    "def fib(n):\n",
    "    \"\"\"n > 0 を整数と仮定\n",
    "            n番目のフィボナッチ数を返す\"\"\"\n",
    "    if n == 0 or n == 1:\n",
    "        return 1\n",
    "    else:\n",
    "        return fib(n-1) + fib(n-2)\n",
    "    \n",
    "def testFib(n):\n",
    "    for i in range(n+1):\n",
    "        print('fib of', i, '=', fib(i))\n",
    "\n",
    "if __name__ == '__main__':\n",
    "    testFib(5)"
   ]
  },
  {
   "cell_type": "code",
   "execution_count": 2,
   "metadata": {},
   "outputs": [
    {
     "name": "stdout",
     "output_type": "stream",
     "text": [
      "Try dogGod\n",
      "True\n",
      "Try doGood\n",
      "False\n"
     ]
    }
   ],
   "source": [
    "def isPalindrome(s):\n",
    "    \"\"\"s を文字列と仮定\n",
    "            s が回分なら　True を返し、それ以外なら False を返す\n",
    "            ただし駆動点, 空白, 大文字・小文字は無視する\"\"\"\n",
    "    \n",
    "    def toChars(s):\n",
    "        s = s.lower()\n",
    "        letters = ''\n",
    "        for c in s:\n",
    "            if c in 'abcdefghijklmnopqrstuvwxyz':\n",
    "                letters = letters + c\n",
    "        return letters\n",
    "    \n",
    "    def isPal(s):\n",
    "        if len(s) <= 1:\n",
    "            return True\n",
    "        else:\n",
    "            return s[0] == s[-1] and isPal(s[1:-1])\n",
    "    \n",
    "    return isPal(toChars(s))\n",
    "\n",
    "if __name__ == '__main__':\n",
    "    print('Try dogGod')\n",
    "    print(isPalindrome('dogGod'))\n",
    "    print('Try doGood')\n",
    "    print(isPalindrome('doGood'))"
   ]
  },
  {
   "cell_type": "code",
   "execution_count": 3,
   "metadata": {},
   "outputs": [
    {
     "name": "stdout",
     "output_type": "stream",
     "text": [
      "fib of 0 = 1\n",
      "fib called 1 times.\n",
      "fib of 1 = 1\n",
      "fib called 1 times.\n",
      "fib of 2 = 2\n",
      "fib called 3 times.\n",
      "fib of 3 = 3\n",
      "fib called 5 times.\n",
      "fib of 4 = 5\n",
      "fib called 9 times.\n",
      "fib of 5 = 8\n",
      "fib called 15 times.\n"
     ]
    }
   ],
   "source": [
    "def fib(n):\n",
    "    \"\"\"n > 0 を整数と仮定\n",
    "            n番目のフィボナッチ数を返す\"\"\"\n",
    "    global numFibCalls\n",
    "    numFibCalls += 1\n",
    "    if n == 0 or n == 1:\n",
    "        return 1\n",
    "    else:\n",
    "        return fib(n-1) + fib(n-2)\n",
    "    \n",
    "def testFib(n):\n",
    "    for i in range(n+1):\n",
    "        global numFibCalls\n",
    "        numFibCalls = 0\n",
    "        print('fib of', i, '=', fib(i))\n",
    "        print('fib called', numFibCalls, 'times.')\n",
    "\n",
    "if __name__ == '__main__':\n",
    "    testFib(5)"
   ]
  },
  {
   "cell_type": "code",
   "execution_count": 4,
   "metadata": {},
   "outputs": [
    {
     "name": "stdout",
     "output_type": "stream",
     "text": [
      "Enter name: Ken\n",
      "Enter name: Mary\n",
      "Ken\n",
      "Mary\n"
     ]
    }
   ],
   "source": [
    "nameHandle = open('kids', 'w')\n",
    "for i in range(2):\n",
    "    name = input('Enter name: ')\n",
    "    nameHandle.write(name + '\\n')\n",
    "nameHandle.close()\n",
    "with open('kids', 'r') as f:\n",
    "    print(f.read()[:-1]) # delete line separator"
   ]
  },
  {
   "cell_type": "code",
   "execution_count": 5,
   "metadata": {},
   "outputs": [
    {
     "name": "stdout",
     "output_type": "stream",
     "text": [
      "()\n",
      "(1, 'two', 3)\n",
      "x\n",
      "('x',)\n"
     ]
    }
   ],
   "source": [
    "# tuple\n",
    "# 文字列を一般化したもの\n",
    "t1 = ()\n",
    "t2 = (1, 'two', 3)\n",
    "t3 = ('x')\n",
    "t4 = ('x',)\n",
    "print(t1)\n",
    "print(t2)\n",
    "print(t3)\n",
    "print(t4)"
   ]
  },
  {
   "cell_type": "code",
   "execution_count": 6,
   "metadata": {},
   "outputs": [
    {
     "data": {
      "text/plain": [
       "(3,)"
      ]
     },
     "execution_count": 6,
     "metadata": {},
     "output_type": "execute_result"
    }
   ],
   "source": [
    "def intersect(t1, t2):\n",
    "    \"\"\" t1とt2はタプルであると仮定する\n",
    "            t1とt2両方に含まれる要素を含むタプルを返す\"\"\"\n",
    "    result = ()\n",
    "    for e in t1:\n",
    "        if e in t2:\n",
    "            result += (e,)\n",
    "    return result\n",
    "\n",
    "intersect((1, 2, 3), ('2', 'two', 3))"
   ]
  },
  {
   "cell_type": "code",
   "execution_count": 7,
   "metadata": {},
   "outputs": [
    {
     "name": "stdout",
     "output_type": "stream",
     "text": [
      "(2, 100)\n",
      "(2, 128)\n"
     ]
    }
   ],
   "source": [
    "def findExtremeDivisors(n1, n2):\n",
    "    \"\"\"n1とn2を正のint型とする\n",
    "            n1とn2の最小の公約数>1と最大の公約数からなるタプルを返す\n",
    "            公約数が無い場合、(None, None)を返す\"\"\"\n",
    "    minVal, maxVal = None, None\n",
    "    for i in range(2, min(n1, n2) + 1):\n",
    "        if n1%i==0 and n2%i==0:\n",
    "            if minVal==None:\n",
    "                minVal = i\n",
    "            maxVal = i\n",
    "    return (minVal, maxVal)\n",
    "\n",
    "print(findExtremeDivisors(100, 300))\n",
    "print(findExtremeDivisors(128, 1024))"
   ]
  },
  {
   "cell_type": "code",
   "execution_count": 8,
   "metadata": {},
   "outputs": [
    {
     "data": {
      "text/plain": [
       "[3, 4, 5, 6, 7, 8, 9]"
      ]
     },
     "execution_count": 8,
     "metadata": {},
     "output_type": "execute_result"
    }
   ],
   "source": [
    "[x for x in range(3,10)]"
   ]
  },
  {
   "cell_type": "code",
   "execution_count": 9,
   "metadata": {},
   "outputs": [
    {
     "name": "stdout",
     "output_type": "stream",
     "text": [
      "[1, 2, 3, 3, 4, 5]\n",
      "[1, 2, 3, 3, 4, 5]\n",
      "[1, 2, 3, 3, 4, 5, [3, 4, 5]]\n"
     ]
    }
   ],
   "source": [
    "L1 = [1,2,3]\n",
    "L2 = [3,4,5]\n",
    "print(L1+L2)\n",
    "L1.extend(L2)\n",
    "print(L1)\n",
    "L1.append(L2)\n",
    "print(L1)"
   ]
  },
  {
   "cell_type": "code",
   "execution_count": 10,
   "metadata": {},
   "outputs": [
    {
     "name": "stdout",
     "output_type": "stream",
     "text": [
      "{'Jan': 1, 'Feb': 2, 'Mar': 3, 'Apr': 4, 'May': 5, 1: 'Jan', 2: 'Feb', 3: 'Mar', 4: 'Apr'}\n",
      "1\n",
      "['Jan', 'Feb', 'Mar', 'Apr', 'May', 1, 2, 3, 4]\n"
     ]
    }
   ],
   "source": [
    "dic = {'Jan':1, 'Feb':2, 'Mar':3, 'Apr':4, \\\n",
    "      'May':5, 1:'Jan', 2:'Feb', 3:'Mar', 4:'Apr'}\n",
    "print(dic)\n",
    "print(dic['Jan'])\n",
    "print([x for x in dic.keys()])"
   ]
  },
  {
   "cell_type": "code",
   "execution_count": 11,
   "metadata": {},
   "outputs": [
    {
     "data": {
      "image/png": "[encoded data removed]",
      "text/plain": [
       "<matplotlib.figure.Figure at 0x109909d30>"
      ]
     },
     "metadata": {},
     "output_type": "display_data"
    }
   ],
   "source": [
    "import pylab\n",
    "pylab.rcParams['lines.linewidth'] = 4\n",
    "pylab.rcParams['axes.titlesize'] = 30\n",
    "pylab.rcParams['axes.labelsize'] = 16\n",
    "pylab.rcParams['xtick.labelsize'] = 8\n",
    "pylab.rcParams['ytick.labelsize'] = 8\n",
    "pylab.rcParams['xtick.major.size'] = 5\n",
    "pylab.rcParams['lines.markersize'] = 7\n",
    "pylab.rcParams['legend.numpoints'] = 1\n",
    "pylab.figure(1)\n",
    "pylab.plot([1,2,3,4], [1,7,3,5])\n",
    "pylab.plot([1,2,3,4], [0,3,5,2])\n",
    "pylab.title('5% Growth, Compounded Annually', fontsize='xx-large')\n",
    "pylab.xlabel('Years of Compounding')\n",
    "pylab.ylabel('Value of Principal ($)')\n",
    "pylab.show()"
   ]
  },
  {
   "cell_type": "code",
   "execution_count": 12,
   "metadata": {
    "collapsed": true
   },
   "outputs": [],
   "source": [
    "pylab.figure(1)\n",
    "pylab.plot([1,2,3,4], [1,2,3,4])\n",
    "pylab.figure(2)\n",
    "pylab.plot([1,4,2,3], [5,6,7,8])\n",
    "pylab.savefig('Figure-Addie')\n",
    "pylab.figure(1)\n",
    "pylab.plot([5,6,10,3])\n",
    "pylab.savefig('Figure-Jane')"
   ]
  },
  {
   "cell_type": "code",
   "execution_count": 13,
   "metadata": {},
   "outputs": [
    {
     "name": "stdout",
     "output_type": "stream",
     "text": [
      "1346269\n"
     ]
    }
   ],
   "source": [
    "def fastFib(n, memo = {}):\n",
    "    \"\"\"nを0以上の整数とする.memoは再帰呼出しによってのみ使われる\n",
    "        n番目のフィボナッチ数を返す\"\"\"\n",
    "    if n==0 or n==1:\n",
    "        return 1\n",
    "    try:\n",
    "        return memo[n]\n",
    "    except KeyError:\n",
    "        result = fastFib(n-1, memo) + fastFib(n-2, memo)\n",
    "        memo[n] = result\n",
    "        return result\n",
    "\n",
    "# print(testFib(30)) #very slow\n",
    "print(fastFib(30)) #計算量はO(n): 定数時間"
   ]
  }
 ],
 "metadata": {
  "kernelspec": {
   "display_name": "Python 3",
   "language": "python",
   "name": "python3"
  },
  "language_info": {
   "codemirror_mode": {
    "name": "ipython",
    "version": 3
   },
   "file_extension": ".py",
   "mimetype": "text/x-python",
   "name": "python",
   "nbconvert_exporter": "python",
   "pygments_lexer": "ipython3",
   "version": "3.6.3"
  }
 },
 "nbformat": 4,
 "nbformat_minor": 2
}
