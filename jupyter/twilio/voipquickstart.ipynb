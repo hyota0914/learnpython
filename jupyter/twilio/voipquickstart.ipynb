{
 "cells": [
  {
   "cell_type": "code",
   "execution_count": 1,
   "metadata": {
    "collapsed": true
   },
   "outputs": [],
   "source": [
    "from twilio.rest import Client\n",
    "import os\n",
    "\n",
    "account_sid = os.environ['TWILIO_TESTING_VOICE_SID']\n",
    "auth_token = os.environ['TWILIO_TESTING_VOICE_TOKEN']\n",
    "client = Client(account_sid, auth_token)"
   ]
  },
  {
   "cell_type": "code",
   "execution_count": 3,
   "metadata": {},
   "outputs": [
    {
     "name": "stdout",
     "output_type": "stream",
     "text": [
      "CA6cc47e48d9069d87a3bde8a9f1fb96ed\n"
     ]
    }
   ],
   "source": [
    "#call = client.calls.create(\n",
    "#    to=os.environ['TWILIO_TO_NUMBER'],\n",
    "#    from_=os.environ['TWILIO_FROM_NUMBER'],\n",
    "#    url=\"http://demo.twilio.com/docs/voice.xml\"\n",
    "#)\n",
    "#print(call.sid)"
   ]
  }
 ],
 "metadata": {
  "kernelspec": {
   "display_name": "Python 3",
   "language": "python",
   "name": "python3"
  },
  "language_info": {
   "codemirror_mode": {
    "name": "ipython",
    "version": 3
   },
   "file_extension": ".py",
   "mimetype": "text/x-python",
   "name": "python",
   "nbconvert_exporter": "python",
   "pygments_lexer": "ipython3",
   "version": "3.6.3"
  }
 },
 "nbformat": 4,
 "nbformat_minor": 2
}
